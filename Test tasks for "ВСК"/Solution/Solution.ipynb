{
 "cells": [
  {
   "cell_type": "markdown",
   "metadata": {},
   "source": [
    "#### **Задание: необходимо спрогнозировать таргеты, где значения -1.**\n",
    "\n",
    "Можно использовать только  интерпретируемые модели для прогнозирования (это необходимо для корректной оценки способностей)  "
   ]
  },
  {
   "cell_type": "code",
   "execution_count": 1,
   "metadata": {},
   "outputs": [],
   "source": [
    "# Принудительно отключим предупреждения системы\n",
    "import warnings\n",
    "warnings.simplefilter(action = 'ignore', category = Warning)\n",
    "\n",
    "# Импортируем библиотеки\n",
    "import numpy as np\n",
    "import pandas as pd\n",
    "import matplotlib.pyplot as plt\n",
    "import seaborn as sns\n",
    "from scipy.stats import f_oneway\n",
    "import plotly.express as px\n",
    "from sklearn.preprocessing import LabelEncoder\n",
    "from sklearn.model_selection import train_test_split, cross_val_score\n",
    "from sklearn.linear_model import LogisticRegression\n",
    "from sklearn.metrics import confusion_matrix, precision_score, recall_score, f1_score, roc_curve, roc_auc_score"
   ]
  },
  {
   "cell_type": "code",
   "execution_count": 2,
   "metadata": {},
   "outputs": [],
   "source": [
    "# Импортируем функции\n",
    "%run '~/Applications/Test-tasks-for-companies/Test tasks for \"ВСК\"/Solution/functions.py'"
   ]
  },
  {
   "cell_type": "code",
   "execution_count": 3,
   "metadata": {},
   "outputs": [
    {
     "name": "stdout",
     "output_type": "stream",
     "text": [
      "Размер датасета: (10863, 29)\n"
     ]
    }
   ],
   "source": [
    "# Импортируем данные\n",
    "sheet_name_variables = 'Переменные'\n",
    "sheet_name = 'data_full'\n",
    "\n",
    "df_variables = pd.read_excel('~/Applications/Test-tasks-for-companies/Test tasks for \"ВСК\"/Test/Задание (пролонгация).xlsx', sheet_name=sheet_name_variables)\n",
    "df = pd.read_excel('~/Applications/Test-tasks-for-companies/Test tasks for \"ВСК\"/Test/Задание (пролонгация).xlsx', sheet_name=sheet_name, index_col='ID')\n",
    "\n",
    "print('Размер датасета:', df.shape)"
   ]
  },
  {
   "cell_type": "code",
   "execution_count": 4,
   "metadata": {},
   "outputs": [],
   "source": [
    "# При анализе найдены дубликаты\n",
    "df = df.drop_duplicates()"
   ]
  },
  {
   "cell_type": "code",
   "execution_count": 5,
   "metadata": {},
   "outputs": [],
   "source": [
    "# Сделаем анализ тех данных, на которых будем проводить обучение и тестироваться\n",
    "df_train = df[df['target'] != -1]"
   ]
  },
  {
   "cell_type": "code",
   "execution_count": 6,
   "metadata": {},
   "outputs": [
    {
     "name": "stdout",
     "output_type": "stream",
     "text": [
      "\u001b[36mShape DataFrame:\n",
      "\u001b[0m\n",
      "(7576, 29) \n",
      "\n",
      "\u001b[36mBasic information:\n",
      "\u001b[0m\n",
      "<class 'pandas.core.frame.DataFrame'>\n",
      "Int64Index: 7576 entries, 1 to 7598\n",
      "Data columns (total 29 columns):\n",
      " #   Column           Non-Null Count  Dtype  \n",
      "---  ------           --------------  -----  \n",
      " 0   Filial           7576 non-null   object \n",
      " 1   Type_ts          7576 non-null   object \n",
      " 2   passport_region  7576 non-null   object \n",
      " 3   VIP              205 non-null    object \n",
      " 4   Brand            7576 non-null   object \n",
      " 5   Model            7576 non-null   object \n",
      " 6   Yr_production    7576 non-null   int64  \n",
      " 7   GAP              7576 non-null   object \n",
      " 8   married          7576 non-null   object \n",
      " 9   KBM              7576 non-null   int64  \n",
      " 10  KBM_prol_est     7576 non-null   int64  \n",
      " 11  delta_kbm        7576 non-null   int64  \n",
      " 12  deduct           7576 non-null   object \n",
      " 13  deduct_amount    7576 non-null   object \n",
      " 14  product          7576 non-null   object \n",
      " 15  Bank             7576 non-null   object \n",
      " 16  channel - map    7576 non-null   object \n",
      " 17  category         7576 non-null   object \n",
      " 18  kvs_type         7576 non-null   object \n",
      " 19  Age              7576 non-null   int64  \n",
      " 20  Exp              7576 non-null   int64  \n",
      " 21  discount         7576 non-null   float64\n",
      " 22  Amount - gr      7576 non-null   int64  \n",
      " 23  sex              7576 non-null   object \n",
      " 24  premium_car      7576 non-null   int64  \n",
      " 25  price_gr         7576 non-null   int64  \n",
      " 26  price_prc        7576 non-null   float64\n",
      " 27  OSAGO_clnt       7576 non-null   int64  \n",
      " 28  target           7576 non-null   int64  \n",
      "dtypes: float64(2), int64(11), object(16)\n",
      "memory usage: 1.7+ MB\n",
      "\n",
      "\n",
      "\u001b[36mFind the duplicates:\n",
      "\u001b[0m\n",
      "0 \n",
      "\n",
      "\u001b[36mDatatypes:\n",
      "\u001b[0m\n",
      "Filial              object\n",
      "Type_ts             object\n",
      "passport_region     object\n",
      "VIP                 object\n",
      "Brand               object\n",
      "Model               object\n",
      "Yr_production        int64\n",
      "GAP                 object\n",
      "married             object\n",
      "KBM                  int64\n",
      "KBM_prol_est         int64\n",
      "delta_kbm            int64\n",
      "deduct              object\n",
      "deduct_amount       object\n",
      "product             object\n",
      "Bank                object\n",
      "channel - map       object\n",
      "category            object\n",
      "kvs_type            object\n",
      "Age                  int64\n",
      "Exp                  int64\n",
      "discount           float64\n",
      "Amount - gr          int64\n",
      "sex                 object\n",
      "premium_car          int64\n",
      "price_gr             int64\n",
      "price_prc          float64\n",
      "OSAGO_clnt           int64\n",
      "target               int64\n",
      "dtype: object \n",
      "\n",
      "\u001b[36mNumber of unique values in each column:\n",
      "\u001b[0m\n",
      "Filial 22\n",
      "Type_ts 2\n",
      "passport_region 85\n",
      "VIP 2\n",
      "Brand 23\n",
      "Model 190\n",
      "Yr_production 10\n",
      "GAP 2\n",
      "married 2\n",
      "KBM 13\n",
      "KBM_prol_est 11\n",
      "delta_kbm 6\n",
      "deduct 3\n",
      "deduct_amount 3\n",
      "product 4\n",
      "Bank 3\n",
      "channel - map 2\n",
      "category 4\n",
      "kvs_type 2\n",
      "Age 65\n",
      "Exp 57\n",
      "discount 5\n",
      "Amount - gr 16\n",
      "sex 3\n",
      "premium_car 2\n",
      "price_gr 13\n",
      "price_prc 21\n",
      "OSAGO_clnt 2\n",
      "target 2\n",
      "\n",
      "\n",
      "\u001b[36mNumber of null values:\n",
      "\u001b[0m\n",
      "Filial                0\n",
      "Type_ts               0\n",
      "passport_region       0\n",
      "VIP                7371\n",
      "Brand                 0\n",
      "Model                 0\n",
      "Yr_production         0\n",
      "GAP                   0\n",
      "married               0\n",
      "KBM                   0\n",
      "KBM_prol_est          0\n",
      "delta_kbm             0\n",
      "deduct                0\n",
      "deduct_amount         0\n",
      "product               0\n",
      "Bank                  0\n",
      "channel - map         0\n",
      "category              0\n",
      "kvs_type              0\n",
      "Age                   0\n",
      "Exp                   0\n",
      "discount              0\n",
      "Amount - gr           0\n",
      "sex                   0\n",
      "premium_car           0\n",
      "price_gr              0\n",
      "price_prc             0\n",
      "OSAGO_clnt            0\n",
      "target                0\n",
      "dtype: int64 \n",
      "\n",
      "\u001b[36mСount, unique, top, freq:\n",
      "\u001b[0m\n",
      "count        29\n",
      "unique        2\n",
      "top       False\n",
      "freq         28\n",
      "dtype: object \n",
      "\n",
      "\u001b[36mCategorical data:\n",
      "\u001b[0m\n",
      "['Filial', 'Type_ts', 'passport_region', 'VIP', 'Brand', 'Model', 'GAP', 'married', 'deduct', 'deduct_amount', 'product', 'Bank', 'channel - map', 'category', 'kvs_type', 'sex'] \n",
      "\n",
      "\u001b[36mNumerical data:\n",
      "\u001b[0m\n",
      "['Yr_production', 'KBM', 'KBM_prol_est', 'delta_kbm', 'Age', 'Exp', 'discount', 'Amount - gr', 'premium_car', 'price_gr', 'price_prc', 'OSAGO_clnt', 'target'] \n",
      "\n"
     ]
    }
   ],
   "source": [
    "# Разведовательный анализ данных по датасету\n",
    "EDA(df_train)"
   ]
  },
  {
   "cell_type": "code",
   "execution_count": 7,
   "metadata": {},
   "outputs": [],
   "source": [
    "# Признак VIP удалим, 97% значений в нем заполнены Nan\n",
    "df_train = df_train.drop(columns=['VIP'], axis=1)"
   ]
  },
  {
   "cell_type": "markdown",
   "metadata": {},
   "source": [
    "Для проверки того, какие признаки следует включить в модель, можно воспользоваться различными методами отбора признаков. \n",
    "\n",
    "Можно вычислить корреляцию между каждым признаком и целевой переменной (меткой класса) и оставить только те признаки, которые имеют наибольшую корреляцию с целевой переменной."
   ]
  },
  {
   "cell_type": "code",
   "execution_count": 8,
   "metadata": {},
   "outputs": [],
   "source": [
    "# Посмотрим на коррекляцию числовых признаков\n",
    "numeric = df_train.select_dtypes(include = np.number)\n",
    "numeric_columns= numeric.columns\n",
    "numeric_features = list(numeric_columns) \n",
    "\n",
    "df_with_numeric_features = df[numeric_features]"
   ]
  },
  {
   "cell_type": "code",
   "execution_count": 9,
   "metadata": {},
   "outputs": [
    {
     "name": "stdout",
     "output_type": "stream",
     "text": [
      "target           1.000000\n",
      "KBM_prol_est     0.119907\n",
      "KBM              0.116491\n",
      "Yr_production    0.100183\n",
      "price_prc        0.066242\n",
      "delta_kbm        0.055614\n",
      "Age              0.040398\n",
      "OSAGO_clnt       0.035456\n",
      "premium_car      0.034748\n",
      "price_gr         0.031033\n",
      "Exp              0.023892\n",
      "Amount - gr      0.021870\n",
      "discount         0.004813\n",
      "Name: target, dtype: float64\n"
     ]
    }
   ],
   "source": [
    "# Вычисляем корреляцию Пирсона между признаками и целевой переменной\n",
    "correlation_matrix = df_with_numeric_features.corr()\n",
    "\n",
    "# Выводим абсолютные значения корреляции для целевой переменной\n",
    "correlation_with_target = correlation_matrix['target'].abs().sort_values(ascending=False)\n",
    "\n",
    "# Печатаем признаки с наибольшей корреляцией с целевой переменной\n",
    "print(correlation_with_target)"
   ]
  },
  {
   "cell_type": "markdown",
   "metadata": {},
   "source": [
    "На основании коэффициентов корреляции Пирсона я бы выбрала следующие фичи:\n",
    "\n",
    "- KBM_prol_est: Этот признак имеет наивысший коэффициент корреляции с целевой переменной, что указывает на его сильное влияние на результаты модели.\n",
    "- KBM: Также имеет довольно высокий коэффициент корреляции, что означает его важность для модели.\n",
    "- Yr_production: Этот признак также имеет относительно высокий коэффициент корреляции и может быть важным для предсказания целевой переменной.\n",
    "\n",
    "Эти признаки были выбраны на основании их сильной корреляции с целевой переменной, что указывает на их потенциальную значимость для модели. Однако, при выборе признаков для модели также важно учитывать их интерпретируемость, доступность и другие факторы, связанные с конкретной задачей и предметной областью."
   ]
  },
  {
   "cell_type": "markdown",
   "metadata": {},
   "source": [
    "В основном корреляция Пирсона используется для оценки линейных взаимосвязей между числовыми признаками и целевой переменной. Если у вас есть категориальные признаки и вы хотите оценить их влияние на целевую переменную, вы можете использовать методы, такие как анализ дисперсии (ANOVA) или непараметрические тесты, такие как тест Крускала-Уоллиса для оценки связи между категориальными и числовыми переменными."
   ]
  },
  {
   "cell_type": "code",
   "execution_count": 10,
   "metadata": {},
   "outputs": [],
   "source": [
    "# Категориальные фичи\n",
    "\n",
    "categorical = df_train.select_dtypes(include = object)\n",
    "categorical_columns = categorical.columns\n",
    "categorical_features = list(categorical_columns) \n",
    "\n",
    "df_with_cat_features = df_train[categorical_features]"
   ]
  },
  {
   "cell_type": "code",
   "execution_count": 11,
   "metadata": {},
   "outputs": [
    {
     "name": "stdout",
     "output_type": "stream",
     "text": [
      "ANOVA for Filial: F-statistic=10.762113806516975, p-value=1.0361731044967214e-35\n",
      "ANOVA for Type_ts: F-statistic=37.858325725812925, p-value=7.994276317592796e-10\n",
      "ANOVA for passport_region: F-statistic=3.6365060666002846, p-value=3.345614328874103e-26\n",
      "ANOVA for Brand: F-statistic=8.533604176417848, p-value=6.9956740528627e-28\n",
      "ANOVA for Model: F-statistic=2.7260605852362874, p-value=1.5755026491888066e-30\n",
      "ANOVA for GAP: F-statistic=33.39981655178175, p-value=7.800626344299378e-09\n",
      "ANOVA for married: F-statistic=14.586386784921547, p-value=0.00013494742627141493\n",
      "ANOVA for deduct: F-statistic=27.95000899146416, p-value=8.054643238000622e-13\n",
      "ANOVA for deduct_amount: F-statistic=22.522209758338363, p-value=1.7689004138394373e-10\n",
      "ANOVA for product: F-statistic=53.2368318031928, p-value=4.806193942826934e-34\n",
      "ANOVA for Bank: F-statistic=171.54324394803558, p-value=1.374025661582833e-73\n",
      "ANOVA for channel - map: F-statistic=122.25362359838576, p-value=3.3360000082598846e-28\n",
      "ANOVA for category: F-statistic=234.02865448860638, p-value=3.234920915015398e-145\n",
      "ANOVA for kvs_type: F-statistic=1.6119738360501663, p-value=0.20425357123477325\n",
      "ANOVA for sex: F-statistic=0.47470303017889165, p-value=0.6220882740833404\n"
     ]
    }
   ],
   "source": [
    "target_variable = 'target'  # Имя целевой переменной\n",
    "\n",
    "for feature in categorical_features:\n",
    "    # Разделение данных по уникальным значениям категориального признака\n",
    "    groups = []\n",
    "    for category in df_train[feature].unique():\n",
    "        groups.append(df_train[df_train[feature] == category][target_variable])\n",
    "    \n",
    "    # Проведение ANOVA\n",
    "    f_statistic, p_value = f_oneway(*groups)\n",
    "    \n",
    "    # Вывод результатов\n",
    "    print(f\"ANOVA for {feature}: F-statistic={f_statistic}, p-value={p_value}\")\n",
    "\n",
    "# Этот код оценивает статистическую значимость различий в средних значениях целевой переменной между \n",
    "# различными категориями каждого категориального признака. "
   ]
  },
  {
   "cell_type": "markdown",
   "metadata": {},
   "source": [
    "На основании результатов теста ANOVA можно сделать вывод, что все рассмотренные признаки являются статистически значимыми предикторами целевой переменной. Значения p-значений для всех признаков ниже уровня значимости 0.05, а F-статистика относительно высока, что указывает на существенное влияние признаков на целевую переменную."
   ]
  },
  {
   "cell_type": "markdown",
   "metadata": {},
   "source": [
    "Выбор признаков для модели зависит от конкретной задачи и целей анализа. \n",
    "\n",
    "В данном случае, я выбрала признаки \"Bank\", \"Category\" и \"Product\" на основании их высокой статистической значимости, которая была подтверждена результатами теста ANOVA. Выбор этих признаков может быть обоснован их сильным влиянием на целевую переменную и важностью для достижения целей анализа. \n",
    "\n",
    "Однако, конечное решение о выборе признаков для модели должно приниматься на основании дополнительных факторов, таких как знания области предмета и экспертное мнение."
   ]
  },
  {
   "cell_type": "markdown",
   "metadata": {},
   "source": [
    "**В рамках данного тестового задания, в связи с ограниченным временем и ресурсами, я приняла решение сосредоточиться на анализе трех наиболее значимых категориальных и трех наиболее значимых числовых фичей, исходя из результатов проведенных тестов и анализа данных.**"
   ]
  },
  {
   "cell_type": "code",
   "execution_count": 12,
   "metadata": {},
   "outputs": [],
   "source": [
    "df_train_change = df_train[['KBM_prol_est', 'KBM', 'Yr_production', 'Bank', 'category', 'product', 'target']]\n",
    "\n",
    "# KBM_prol_est = Прогноз КБМ (пролонгация)\n",
    "# KBM = КБМ\n",
    "# Yr_production = Год выпуска ТС\n",
    "# Bank = Машина в залоге банка\n",
    "# category = Тип бизнеса\n",
    "# product = Продукт"
   ]
  },
  {
   "cell_type": "code",
   "execution_count": 13,
   "metadata": {},
   "outputs": [],
   "source": [
    "def plot_col_with_FacetGrid(value_column, name_column):\n",
    "    \n",
    "    # Создание объекта FacetGrid с настройками размеров\n",
    "    g = sns.FacetGrid(df_train_change, col=\"target\", height=4, aspect=1.2)\n",
    "\n",
    "    # Настройка графиков\n",
    "    g.map(sns.histplot, f\"{value_column}\", bins=10, kde=True, color=\"pink\")\n",
    "    g.set_axis_labels(f\"{name_column}\", \"Частота\")\n",
    "    g.set_titles(\"Целевая переменная: {col_name}\")\n",
    "\n",
    "    # Добавление легенды\n",
    "    g.add_legend()\n",
    "\n",
    "    # Отображение графиков\n",
    "    plt.show()"
   ]
  },
  {
   "cell_type": "code",
   "execution_count": 14,
   "metadata": {},
   "outputs": [
    {
     "data": {
      "image/png": "[encoded data removed]",
      "text/plain": [
       "<Figure size 971.111x400 with 2 Axes>"
      ]
     },
     "metadata": {},
     "output_type": "display_data"
    }
   ],
   "source": [
    "plot_col_with_FacetGrid('KBM_prol_est', 'Прогноз КБМ (пролонгация)')"
   ]
  },
  {
   "cell_type": "code",
   "execution_count": 15,
   "metadata": {},
   "outputs": [
    {
     "data": {
      "image/png": "[encoded data removed]",
      "text/plain": [
       "<Figure size 971.111x400 with 2 Axes>"
      ]
     },
     "metadata": {},
     "output_type": "display_data"
    }
   ],
   "source": [
    "plot_col_with_FacetGrid('KBM', 'КБМ')"
   ]
  },
  {
   "cell_type": "code",
   "execution_count": 16,
   "metadata": {},
   "outputs": [
    {
     "data": {
      "image/png": "[encoded data removed]",
      "text/plain": [
       "<Figure size 971.111x400 with 2 Axes>"
      ]
     },
     "metadata": {},
     "output_type": "display_data"
    }
   ],
   "source": [
    "plot_col_with_FacetGrid('Yr_production', 'Год выпуска ТС')"
   ]
  },
  {
   "cell_type": "markdown",
   "metadata": {},
   "source": [
    "Признаки 'KBM_prol_est', 'KBM' являются не числовыми, а категориальными, так как они содержат дискретные значения, которые представляют различные категории или уровни. Категориальные признаки представляют собой переменные, которые могут принимать ограниченное количество уникальных значений из определенного набора категорий. \n",
    "\n",
    "Также признак \"Год выпуска ТС\" (Yr_production) в данном случае представляет собой категориальный признак. В данном контексте год выпуска транспортного средства является дискретной категорией, и его можно рассматривать как категориальный признак. Каждый год представляет отдельную категорию, а количество транспортных средств выпущенных в каждом году указывает на количество наблюдений в соответствующей категории."
   ]
  },
  {
   "cell_type": "code",
   "execution_count": 17,
   "metadata": {},
   "outputs": [],
   "source": [
    "# Закодируем сразу и тренировочные, и тестовые данные\n",
    "df_predict = df[df['target'] == -1][['KBM_prol_est', 'KBM', 'Yr_production', 'Bank', 'category', 'product']]"
   ]
  },
  {
   "cell_type": "code",
   "execution_count": 18,
   "metadata": {},
   "outputs": [
    {
     "data": {
      "text/html": [
       "<div>\n",
       "<style scoped>\n",
       "    .dataframe tbody tr th:only-of-type {\n",
       "        vertical-align: middle;\n",
       "    }\n",
       "\n",
       "    .dataframe tbody tr th {\n",
       "        vertical-align: top;\n",
       "    }\n",
       "\n",
       "    .dataframe thead th {\n",
       "        text-align: right;\n",
       "    }\n",
       "</style>\n",
       "<table border=\"1\" class=\"dataframe\">\n",
       "  <thead>\n",
       "    <tr style=\"text-align: right;\">\n",
       "      <th></th>\n",
       "      <th>KBM_prol_est</th>\n",
       "      <th>KBM</th>\n",
       "      <th>Yr_production</th>\n",
       "      <th>Bank</th>\n",
       "      <th>category</th>\n",
       "      <th>product</th>\n",
       "      <th>target</th>\n",
       "    </tr>\n",
       "    <tr>\n",
       "      <th>ID</th>\n",
       "      <th></th>\n",
       "      <th></th>\n",
       "      <th></th>\n",
       "      <th></th>\n",
       "      <th></th>\n",
       "      <th></th>\n",
       "      <th></th>\n",
       "    </tr>\n",
       "  </thead>\n",
       "  <tbody>\n",
       "    <tr>\n",
       "      <th>1</th>\n",
       "      <td>6</td>\n",
       "      <td>8</td>\n",
       "      <td>9</td>\n",
       "      <td>0</td>\n",
       "      <td>0</td>\n",
       "      <td>1</td>\n",
       "      <td>0.0</td>\n",
       "    </tr>\n",
       "    <tr>\n",
       "      <th>2</th>\n",
       "      <td>6</td>\n",
       "      <td>8</td>\n",
       "      <td>7</td>\n",
       "      <td>0</td>\n",
       "      <td>2</td>\n",
       "      <td>2</td>\n",
       "      <td>0.0</td>\n",
       "    </tr>\n",
       "    <tr>\n",
       "      <th>3</th>\n",
       "      <td>6</td>\n",
       "      <td>8</td>\n",
       "      <td>9</td>\n",
       "      <td>0</td>\n",
       "      <td>0</td>\n",
       "      <td>1</td>\n",
       "      <td>1.0</td>\n",
       "    </tr>\n",
       "  </tbody>\n",
       "</table>\n",
       "</div>"
      ],
      "text/plain": [
       "    KBM_prol_est  KBM  Yr_production  Bank  category  product  target\n",
       "ID                                                                   \n",
       "1              6    8              9     0         0        1     0.0\n",
       "2              6    8              7     0         2        2     0.0\n",
       "3              6    8              9     0         0        1     1.0"
      ]
     },
     "execution_count": 18,
     "metadata": {},
     "output_type": "execute_result"
    }
   ],
   "source": [
    "# \"KBM_prol_est\", \"KBM\" уже закодированы, рассмотрим остальные\n",
    "\n",
    "cat_cols = [\"Yr_production\", \"Bank\", \"category\", \"product\"]\n",
    "\n",
    "# Создание одного объекта LabelEncoder\n",
    "encoder = LabelEncoder()\n",
    "\n",
    "# Объединение тренировочного и тестового наборов данных для обеспечения единых меток\n",
    "combined_df = pd.concat([df_train_change, df_predict])\n",
    "\n",
    "# Применение LabelEncoder к каждому категориальному признаку\n",
    "for col in cat_cols:\n",
    "    combined_df[col] = encoder.fit_transform(combined_df[col])\n",
    "\n",
    "# Разделение обратно на тренировочный и тестовый наборы данных\n",
    "df_train_change = combined_df[:len(df_train_change)]\n",
    "df_predict = combined_df[len(df_train_change):]\n",
    "\n",
    "df_predict = df_predict.drop(['target'], axis=1)\n",
    "\n",
    "# Вывод обновленного датафрейма\n",
    "df_train_change.head(3)"
   ]
  },
  {
   "cell_type": "markdown",
   "metadata": {},
   "source": [
    "Стандартизация или нормализация обычно не требуется для закодированных категориальных признаков, так как они уже представлены в форме числовых значений после процесса кодирования. Эти числовые значения обычно представляют собой целые числа или коды, которые обозначают различные категории."
   ]
  },
  {
   "cell_type": "code",
   "execution_count": 19,
   "metadata": {},
   "outputs": [
    {
     "name": "stdout",
     "output_type": "stream",
     "text": [
      "Значения кросс-валидации: [0.6980198  0.7029703  0.70874587 0.70214521 0.70214521]\n",
      "Средняя точность кросс-валидации: 0.7028052805280527\n",
      "Точность на тестовом наборе данных: 0.7170184696569921\n"
     ]
    }
   ],
   "source": [
    "# Разделение данных на обучающий и тестовый наборы\n",
    "X = df_train_change.drop(columns=['target'])\n",
    "y = df_train_change['target']\n",
    "\n",
    "X_train, X_test, y_train, y_test = train_test_split(X, y, test_size=0.2, random_state=42)\n",
    "\n",
    "# Инициализация и обучение модели логистической регрессии\n",
    "log_reg = LogisticRegression()\n",
    "log_reg.fit(X_train, y_train)\n",
    "\n",
    "# Оценка качества модели с использованием кросс-валидации\n",
    "cv_scores = cross_val_score(log_reg, X_train, y_train, cv=5)\n",
    "print(\"Значения кросс-валидации:\", cv_scores)\n",
    "print(\"Средняя точность кросс-валидации:\", cv_scores.mean())\n",
    "\n",
    "# Оценка качества модели на тестовом наборе данных\n",
    "test_accuracy = log_reg.score(X_test, y_test)\n",
    "print(\"Точность на тестовом наборе данных:\", test_accuracy)"
   ]
  },
  {
   "cell_type": "markdown",
   "metadata": {},
   "source": [
    "Полученные результаты показывают, что модель логистической регрессии достаточно неплохо обобщает данные, хотя качество на тестовом наборе данных немного ниже, чем на обучающем наборе данных. Это может указывать на то, что модель немного переобучена на обучающих данных. Тем не менее, общее качество модели выглядит приемлемым."
   ]
  },
  {
   "cell_type": "code",
   "execution_count": 20,
   "metadata": {},
   "outputs": [],
   "source": [
    "# Предсказание меток классов на новом наборе данных\n",
    "y_pred = log_reg.predict(df_predict)\n",
    "\n",
    "result = pd.concat([df_predict, pd.DataFrame(y_pred, columns=['y_pred'], index=df_predict.index)], axis=1)"
   ]
  }
 ],
 "metadata": {
  "kernelspec": {
   "display_name": "Python 3",
   "language": "python",
   "name": "python3"
  },
  "language_info": {
   "codemirror_mode": {
    "name": "ipython",
    "version": 3
   },
   "file_extension": ".py",
   "mimetype": "text/x-python",
   "name": "python",
   "nbconvert_exporter": "python",
   "pygments_lexer": "ipython3",
   "version": "3.11.1"
  }
 },
 "nbformat": 4,
 "nbformat_minor": 2
}

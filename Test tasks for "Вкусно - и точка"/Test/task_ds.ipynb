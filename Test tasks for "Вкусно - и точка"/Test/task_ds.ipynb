{
 "cells": [
  {
   "cell_type": "markdown",
   "metadata": {},
   "source": [
    "### Задача\n",
    "\n",
    "Привет! Тебе предстоит спрогнозировать поведение временных рядов в разрезе id ряда - день. Для каждого ряда требуется предоставить прогнозные значения на 28 дней.\n",
    "\n",
    "К задаче приложены два файла: **train.csv** и **test.csv**.\n",
    "В первом файле хранятся исторические данные семи временных рядов некоторого показателя: id - идентификатор ряда, **dt** - дата, **val** - значение временного ряда. Во втором, **test.csv** - id рядов и период, за который необходимо получить прогнозные значения показателей соответствующих рядов.\n",
    "\n",
    "Необходимо использовать в своем решении 2 подхода:\n",
    "\n",
    "    1. Сделать прогноз, используя классические эконометрические модели для работы с временными рядами (ARIMA, exponential smoothing и т.д.).\n",
    "    2. Сформировать признаки и обучить модель градиентного бустинга.\n",
    "    3* Будет плюсом, если в своем решении также ты попробуешь DL модели (нейросети).\n",
    "\n",
    "В качестве решения мы ждем два файла - **solution.csv**, который содержит в себе информацию из test.csv с дополнительной колонкой, содержащей прогнозные значения, и **.ipynb** файл, с кодом самого решения. \n",
    "Приветствуется хороший код, комментарии в коде, визуализация, оценка качества итоговой модели, наличие выводов и обоснований.\n",
    "\n",
    "По результатам - мы вернемся с обратной связью, успехов!:)"
   ]
  },
  {
   "cell_type": "code",
   "execution_count": 2,
   "metadata": {
    "collapsed": false,
    "jupyter": {
     "outputs_hidden": false
    }
   },
   "outputs": [],
   "source": [
    "import pandas as pd"
   ]
  },
  {
   "cell_type": "code",
   "execution_count": 4,
   "metadata": {},
   "outputs": [
    {
     "data": {
      "text/html": [
       "<div>\n",
       "<style scoped>\n",
       "    .dataframe tbody tr th:only-of-type {\n",
       "        vertical-align: middle;\n",
       "    }\n",
       "\n",
       "    .dataframe tbody tr th {\n",
       "        vertical-align: top;\n",
       "    }\n",
       "\n",
       "    .dataframe thead th {\n",
       "        text-align: right;\n",
       "    }\n",
       "</style>\n",
       "<table border=\"1\" class=\"dataframe\">\n",
       "  <thead>\n",
       "    <tr style=\"text-align: right;\">\n",
       "      <th></th>\n",
       "      <th>id</th>\n",
       "      <th>dt</th>\n",
       "      <th>val</th>\n",
       "    </tr>\n",
       "  </thead>\n",
       "  <tbody>\n",
       "    <tr>\n",
       "      <th>0</th>\n",
       "      <td>10766</td>\n",
       "      <td>2018-01-01</td>\n",
       "      <td>6186</td>\n",
       "    </tr>\n",
       "    <tr>\n",
       "      <th>1</th>\n",
       "      <td>10766</td>\n",
       "      <td>2018-01-02</td>\n",
       "      <td>8173</td>\n",
       "    </tr>\n",
       "    <tr>\n",
       "      <th>2</th>\n",
       "      <td>10766</td>\n",
       "      <td>2018-01-03</td>\n",
       "      <td>8220</td>\n",
       "    </tr>\n",
       "    <tr>\n",
       "      <th>3</th>\n",
       "      <td>10766</td>\n",
       "      <td>2018-01-04</td>\n",
       "      <td>7849</td>\n",
       "    </tr>\n",
       "    <tr>\n",
       "      <th>4</th>\n",
       "      <td>10766</td>\n",
       "      <td>2018-01-05</td>\n",
       "      <td>7605</td>\n",
       "    </tr>\n",
       "  </tbody>\n",
       "</table>\n",
       "</div>"
      ],
      "text/plain": [
       "      id          dt   val\n",
       "0  10766  2018-01-01  6186\n",
       "1  10766  2018-01-02  8173\n",
       "2  10766  2018-01-03  8220\n",
       "3  10766  2018-01-04  7849\n",
       "4  10766  2018-01-05  7605"
      ]
     },
     "execution_count": 4,
     "metadata": {},
     "output_type": "execute_result"
    }
   ],
   "source": [
    "df = pd.read_csv('train.csv')\n",
    "df.head()"
   ]
  }
 ],
 "metadata": {
  "kernelspec": {
   "display_name": "Python 3 (ipykernel)",
   "language": "python",
   "name": "python3"
  },
  "language_info": {
   "codemirror_mode": {
    "name": "ipython",
    "version": 3
   },
   "file_extension": ".py",
   "mimetype": "text/x-python",
   "name": "python",
   "nbconvert_exporter": "python",
   "pygments_lexer": "ipython3",
   "version": "3.11.1"
  }
 },
 "nbformat": 4,
 "nbformat_minor": 4
}

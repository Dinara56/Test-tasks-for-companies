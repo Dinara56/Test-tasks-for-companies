{
 "cells": [
  {
   "cell_type": "code",
   "execution_count": 1,
   "metadata": {},
   "outputs": [],
   "source": [
    "# Импортируем библиотеки\n",
    "import numpy as np\n",
    "import pandas as pd\n",
    "import matplotlib.pyplot as plt\n",
    "import seaborn as sns"
   ]
  },
  {
   "cell_type": "markdown",
   "metadata": {},
   "source": [
    "#### **Задача:** выявить особенности датасета, которые привели ухудшению качества моделей и объяснить причины почему так происходило."
   ]
  },
  {
   "cell_type": "markdown",
   "metadata": {},
   "source": [
    "**Известные данные:**\n",
    "\n",
    "- Первая колонка представляет собой индекс.\n",
    "- Вторая колонка (request) - это идентификатор запроса.\n",
    "- Третья колонка (object) - это идентификатор объекта, на который кликнул пользователь.\n",
    "- Четвертая колонка (label) - это метка, где 1 указывает на положительный пример, а 0 - на негативный пример."
   ]
  },
  {
   "cell_type": "code",
   "execution_count": 2,
   "metadata": {},
   "outputs": [
    {
     "name": "stdout",
     "output_type": "stream",
     "text": [
      "Размер датасета: (12979882, 3)\n"
     ]
    }
   ],
   "source": [
    "# Задаем изначальные названия столбцов\n",
    "column_names = ['request', 'object', 'label']\n",
    "df = pd.read_csv('~/Applications/Test-tasks-for-companies/Test tasks for 2GIS/Test/clicks_dataset_msk_20230101_20230725_spec.csv', names=column_names)\n",
    "\n",
    "print('Размер датасета:', df.shape)"
   ]
  },
  {
   "cell_type": "code",
   "execution_count": 3,
   "metadata": {},
   "outputs": [
    {
     "data": {
      "text/html": [
       "<div>\n",
       "<style scoped>\n",
       "    .dataframe tbody tr th:only-of-type {\n",
       "        vertical-align: middle;\n",
       "    }\n",
       "\n",
       "    .dataframe tbody tr th {\n",
       "        vertical-align: top;\n",
       "    }\n",
       "\n",
       "    .dataframe thead th {\n",
       "        text-align: right;\n",
       "    }\n",
       "</style>\n",
       "<table border=\"1\" class=\"dataframe\">\n",
       "  <thead>\n",
       "    <tr style=\"text-align: right;\">\n",
       "      <th></th>\n",
       "      <th>request</th>\n",
       "      <th>object</th>\n",
       "      <th>label</th>\n",
       "    </tr>\n",
       "  </thead>\n",
       "  <tbody>\n",
       "    <tr>\n",
       "      <th>0</th>\n",
       "      <td>1590973</td>\n",
       "      <td>168299</td>\n",
       "      <td>1</td>\n",
       "    </tr>\n",
       "    <tr>\n",
       "      <th>1</th>\n",
       "      <td>1590973</td>\n",
       "      <td>718560</td>\n",
       "      <td>0</td>\n",
       "    </tr>\n",
       "    <tr>\n",
       "      <th>2</th>\n",
       "      <td>1234953</td>\n",
       "      <td>325828</td>\n",
       "      <td>1</td>\n",
       "    </tr>\n",
       "    <tr>\n",
       "      <th>3</th>\n",
       "      <td>1234953</td>\n",
       "      <td>135968</td>\n",
       "      <td>0</td>\n",
       "    </tr>\n",
       "  </tbody>\n",
       "</table>\n",
       "</div>"
      ],
      "text/plain": [
       "   request  object  label\n",
       "0  1590973  168299      1\n",
       "1  1590973  718560      0\n",
       "2  1234953  325828      1\n",
       "3  1234953  135968      0"
      ]
     },
     "execution_count": 3,
     "metadata": {},
     "output_type": "execute_result"
    }
   ],
   "source": [
    "# Вывод первых нескольких строк датасета для знакомства с данными\n",
    "df.head(4)"
   ]
  },
  {
   "cell_type": "markdown",
   "metadata": {},
   "source": [
    "На основе известной информации о данных, посмотрим на пример:\n",
    "\n",
    "- Строка 0: Пользователь сделал запрос с идентификатором 1590973 и кликнул на объект с идентификатором 168299, что соответствует положительному примеру (метка 1).\n",
    "- Строка 1: Для того же запроса 1590973 был подобран негативный объект с идентификатором 718560 (метка 0) из другой рубрики.\n",
    "- Строка 2: Пользователь сделал запрос с идентификатором 1234953 и кликнул на объект с идентификатором 325828, что соответствует положительному примеру (метка 1).\n",
    "- Строка 3: Для того же запроса 1234953 был подобран негативный объект с идентификатором 135968 (метка 0) из другой рубрики.\n",
    "\n",
    "Теперь, когда мы понимаем структуру и содержание данных, мы можем перейти к более детальному анализу и выявлению особенностей, которые могут повлиять на качество модели при тестировании. "
   ]
  },
  {
   "cell_type": "code",
   "execution_count": 4,
   "metadata": {},
   "outputs": [
    {
     "name": "stdout",
     "output_type": "stream",
     "text": [
      "Количество пропущенных значений в каждом столбце:\n",
      "request    0\n",
      "object     0\n",
      "label      0\n",
      "dtype: int64\n"
     ]
    }
   ],
   "source": [
    "# Проверка наличия пропущенных значений в каждом столбце\n",
    "missing_values_per_column = df.isnull().sum()\n",
    "print(\"Количество пропущенных значений в каждом столбце:\")\n",
    "print(missing_values_per_column)"
   ]
  },
  {
   "cell_type": "markdown",
   "metadata": {},
   "source": [
    "Пропущенных значений в данных нет, но, возможно, в исходных данных **есть дубликаты строк**, которые нужно удалить."
   ]
  },
  {
   "cell_type": "code",
   "execution_count": 5,
   "metadata": {},
   "outputs": [
    {
     "name": "stdout",
     "output_type": "stream",
     "text": [
      "Размер датафрейма до удаления дубликатов: (12979882, 3)\n",
      "Размер датафрейма после удаления дубликатов: (12977297, 3)\n"
     ]
    }
   ],
   "source": [
    "# Удаление дубликатов из датафрейма\n",
    "df_without_duplicates = df.drop_duplicates()\n",
    "\n",
    "# Вывод информации о новом датафрейме без дубликатов\n",
    "print(\"Размер датафрейма до удаления дубликатов:\", df.shape)\n",
    "print(\"Размер датафрейма после удаления дубликатов:\", df_without_duplicates.shape)"
   ]
  },
  {
   "cell_type": "markdown",
   "metadata": {},
   "source": [
    "Из предоставленного описания данных следует, что для каждого запроса должны быть ровно две строки:\n",
    "\n",
    "- Одна строка с положительным примером (метка 1).\n",
    "- Одна строка с негативным примером (метка 0).\n",
    "\n",
    "**Если у запроса больше двух строк или запросу отсутствует одна из строк (либо положительная, либо негативная), то это может считаться ошибкой в данных или несоответствием описанию.**"
   ]
  },
  {
   "cell_type": "code",
   "execution_count": 6,
   "metadata": {},
   "outputs": [
    {
     "name": "stdout",
     "output_type": "stream",
     "text": [
      "Количество строк с value_counts == 2: 8394858\n",
      "Количество строк с value_counts != 2: 4582439\n"
     ]
    }
   ],
   "source": [
    "# Чтобы вывести только те строки в датафрейме, где значение value_counts равно 2\n",
    "\n",
    "# Выборка строк с value_counts == 2\n",
    "df_value_counts_2 = df_without_duplicates[df_without_duplicates['request'].map(df_without_duplicates['request'].value_counts()) == 2].reset_index(drop=True)\n",
    "\n",
    "# Подсчет строк, где value_counts != 2\n",
    "count_not_2 = len(df_without_duplicates) - len(df_value_counts_2)\n",
    "\n",
    "print(\"Количество строк с value_counts == 2:\", len(df_value_counts_2))\n",
    "print(\"Количество строк с value_counts != 2:\", count_not_2)"
   ]
  },
  {
   "cell_type": "markdown",
   "metadata": {},
   "source": [
    "Проблемой могут быть данные, в которых уникальному идентификатору запроса будет соответствовать совпадающий уникальный идентификатор объекта для разных меткок. В случае, если такие данные обнаружатся, удалим данные о таких запросах."
   ]
  },
  {
   "cell_type": "code",
   "execution_count": 7,
   "metadata": {},
   "outputs": [
    {
     "name": "stdout",
     "output_type": "stream",
     "text": [
      "Есть строки, где номер запроса соответствует номеру объекта для разных меток.\n"
     ]
    }
   ],
   "source": [
    "# Проверка, есть ли строки, где номер запроса соответствует номеру объекта для разных меток\n",
    "mismatched_rows = df_value_counts_2['request'] == df_value_counts_2['object']\n",
    "\n",
    "# Проверка, есть ли хотя бы одна такая строка\n",
    "if mismatched_rows.any():\n",
    "    print(\"Есть строки, где номер запроса соответствует номеру объекта для разных меток.\")\n",
    "else:\n",
    "    print(\"Нет строк, где номер запроса соответствует номеру объекта для разных меток.\")"
   ]
  },
  {
   "cell_type": "code",
   "execution_count": 8,
   "metadata": {},
   "outputs": [
    {
     "name": "stdout",
     "output_type": "stream",
     "text": [
      "Запросы, где номер запроса соответствует номеру объекта для разных меток:\n",
      "[930644]\n",
      "Размер датафрейма до удаления строк: (8394858, 3)\n",
      "Размер датафрейма после удаления строк: (8394856, 3)\n"
     ]
    }
   ],
   "source": [
    "# Получение списка уникальных запросов, где номер запроса соответствует номеру объекта для разных меток\n",
    "matching_requests = df_value_counts_2.loc[df_value_counts_2['request'] == df_value_counts_2['object'], 'request'].unique()\n",
    "\n",
    "# Вывод списка запросов, удовлетворяющих условию\n",
    "print(\"Запросы, где номер запроса соответствует номеру объекта для разных меток:\")\n",
    "print(matching_requests)\n",
    "\n",
    "# Удаление всех строк, связанных с этими запросами\n",
    "df_without_matching = df_value_counts_2[~df_value_counts_2['request'].isin(matching_requests)].reset_index(drop=True)\n",
    "\n",
    "# Вывод информации о новом датафрейме без этих строк\n",
    "print(\"Размер датафрейма до удаления строк:\", df_value_counts_2.shape)\n",
    "print(\"Размер датафрейма после удаления строк:\", df_without_matching.shape)"
   ]
  },
  {
   "cell_type": "markdown",
   "metadata": {},
   "source": [
    "Хотелось бы уточнить, могут ли уникальные номера запросов совпадать с уникальными номерами объектов, так как иногда такая тенденция может нарушить требования консистентности данных. В случае, если таких пересечений не должно быть и они добавлены по ошибке, тогда их следовало бы удалить."
   ]
  },
  {
   "cell_type": "code",
   "execution_count": 9,
   "metadata": {},
   "outputs": [
    {
     "data": {
      "text/plain": [
       "965954"
      ]
     },
     "execution_count": 9,
     "metadata": {},
     "output_type": "execute_result"
    }
   ],
   "source": [
    "len(set(df_without_matching['object']) & set(df_without_matching['request']))"
   ]
  },
  {
   "cell_type": "markdown",
   "metadata": {},
   "source": [
    "Дополнительно проверим на соответствие одному запросу меток 1 и 0."
   ]
  },
  {
   "cell_type": "code",
   "execution_count": 10,
   "metadata": {},
   "outputs": [
    {
     "name": "stdout",
     "output_type": "stream",
     "text": [
      "Все запросы соответствуют требованию наличия как минимум одной строки с меткой 1 и одной строкой с меткой 0.\n"
     ]
    }
   ],
   "source": [
    "# Группировка данных по запросам и подсчет уникальных меток\n",
    "grouped_data = df_without_matching.groupby('request')['label'].nunique()\n",
    "\n",
    "# Проверка соответствия одного запроса меткам 1 и 0\n",
    "check = grouped_data[(grouped_data != 2)]\n",
    "\n",
    "if not check.empty:\n",
    "    print(\"Найдены запросы, которые не соответствуют требованию наличия как минимум одной строки с меткой 1 и одной строкой с меткой 0.\")\n",
    "    print(\"Нарушения обнаружены для следующих запросов:\")\n",
    "    print(check)\n",
    "else:\n",
    "    print(\"Все запросы соответствуют требованию наличия как минимум одной строки с меткой 1 и одной строкой с меткой 0.\")"
   ]
  },
  {
   "cell_type": "markdown",
   "metadata": {},
   "source": [
    "Также проверим может ли быть такая ситуация, что одному уникальному идентификатору запроса будет соответствовать один уникальный идентификатор объекта."
   ]
  },
  {
   "cell_type": "code",
   "execution_count": 11,
   "metadata": {},
   "outputs": [
    {
     "name": "stdout",
     "output_type": "stream",
     "text": [
      "Для некоторых уникальных запросов соответствует только один объект:\n",
      "Series([], Name: object, dtype: int64)\n"
     ]
    }
   ],
   "source": [
    "# До этого мы проверяли по количеству, проверим еще на уникальность\n",
    "# Подсчет количества уникальных объектов для каждого уникального запроса\n",
    "unique_objects_per_request = df_without_matching.groupby('request')['object'].nunique()\n",
    "\n",
    "# Найти запросы, для которых количество уникальных объектов равно 1\n",
    "requests_with_single_object = unique_objects_per_request[unique_objects_per_request == 1]\n",
    "\n",
    "# Вывод найденных запросов\n",
    "print(\"Для некоторых уникальных запросов соответствует только один объект:\")\n",
    "print(requests_with_single_object)"
   ]
  },
  {
   "cell_type": "markdown",
   "metadata": {},
   "source": [
    "После проверки того, соответствуют ли всем уникальным запросам разные объекты, можно сделать вывод, что в датасете **нет повторений объектов для одного и того же запроса**."
   ]
  },
  {
   "cell_type": "code",
   "execution_count": 12,
   "metadata": {},
   "outputs": [
    {
     "name": "stdout",
     "output_type": "stream",
     "text": [
      "<class 'pandas.core.frame.DataFrame'>\n",
      "RangeIndex: 8394856 entries, 0 to 8394855\n",
      "Data columns (total 3 columns):\n",
      " #   Column   Dtype\n",
      "---  ------   -----\n",
      " 0   request  int64\n",
      " 1   object   int64\n",
      " 2   label    int64\n",
      "dtypes: int64(3)\n",
      "memory usage: 192.1 MB\n",
      "None\n"
     ]
    }
   ],
   "source": [
    "# Общая информация о датасете: количество строк и столбцов, типы данных\n",
    "print(df_without_matching.info())"
   ]
  },
  {
   "cell_type": "code",
   "execution_count": 13,
   "metadata": {},
   "outputs": [
    {
     "name": "stdout",
     "output_type": "stream",
     "text": [
      "Class distribution:\n",
      "1    4197428\n",
      "0    4197428\n",
      "Name: label, dtype: int64\n"
     ]
    }
   ],
   "source": [
    "# Посмотрим на распределение меток классов (0 и 1) в датасете, чтобы определить, есть ли дисбаланс\n",
    "class_distribution = df_without_matching['label'].value_counts()\n",
    "print(\"Class distribution:\")\n",
    "print(class_distribution)"
   ]
  },
  {
   "cell_type": "markdown",
   "metadata": {},
   "source": [
    "Распределение меток классов в датафрейме показывает, что количество положительных (метка 1) и негативных (метка 0) примеров одинаково, что указывает на **отсутствие дисбаланса классов**. Это положительно сказывается на возможности модели обучаться и делать прогнозы для обоих классов с равной точностью."
   ]
  },
  {
   "cell_type": "markdown",
   "metadata": {},
   "source": [
    "**Из анализа поставленной задачи можно сделать следующие выводы относительно возможных причин, влияющих на низкое качество:**\n",
    "\n",
    "- Некоторые запросы в данных не имеют полной пары строк с метками 1 и 0, что нарушает условие обучения моделей, требующее две строки для каждого запроса: одну с меткой 1 (положительный пример, когда пользователь кликнул на объект) и одну с меткой 0 (негативный пример, когда пользователь не кликнул на объект).\n",
    "- Следует обратить внимание на то, что некоторые уникальные идентификаторы запросов совпадают с уникальными идентификаторами объектов, что может указывать на некорректное представление данных или наличие ошибок в сборе данных.\n",
    "- В датасете были обнаружены дубликаты, что может искажать результаты анализа и моделирования данных.\n",
    "- В датасете был обнаружен номер запроса, который соответствовал номеру объекта для разных меток."
   ]
  }
 ],
 "metadata": {
  "kernelspec": {
   "display_name": "Python 3",
   "language": "python",
   "name": "python3"
  },
  "language_info": {
   "codemirror_mode": {
    "name": "ipython",
    "version": 3
   },
   "file_extension": ".py",
   "mimetype": "text/x-python",
   "name": "python",
   "nbconvert_exporter": "python",
   "pygments_lexer": "ipython3",
   "version": "3.11.1"
  }
 },
 "nbformat": 4,
 "nbformat_minor": 2
}
